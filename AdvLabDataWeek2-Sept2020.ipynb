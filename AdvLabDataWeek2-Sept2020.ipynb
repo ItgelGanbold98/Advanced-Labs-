{
 "cells": [
  {
   "cell_type": "markdown",
   "metadata": {},
   "source": [
    "# Advanced Laboratories Data Analysis Week 2 \n",
    "\n",
    "There are two main aims to this exercise:\n",
    " 1. Perform non-linear curve fitting using the **<samp>scipy.stats.curve_fit()</samp>** function.\n",
    " 2. Introduce the $\\chi^2$ statistic and use it to assess the quality of a fit though the reduced $\\chi^2$ and $\\chi^2$ probability"
   ]
  },
  {
   "cell_type": "markdown",
   "metadata": {},
   "source": [
    "At the end of this session you should be able to:\n",
    "\n",
    "1. Use the Python scipy curve_fit_ function, including providing guesses for the initial fit parameters. Usage:\n",
    "```python\n",
    "popt, pcov=curve_fit(func, x, y, p0=guess, sigma=yerror, absolute_sigma=True)```\n",
    "2. Calculate and understand the significances of $\\chi^2$, the reduced $\\chi^2$ and the $\\chi^2$ probability."
   ]
  },
  {
   "cell_type": "markdown",
   "metadata": {},
   "source": [
    "### Problem and Data Set\n",
    "This week you will be interested in data associated with the calibration of a thermocouple. \n",
    "\n",
    "The data is in a file called __thermocouple.dat__ and should be downloaded to your working directory before you begin. \n",
    " * The *first column is temperature readings in degrees C* \n",
    " * The *second is the measured relative output voltage in mV*. The uncertainty in each of the mV readings is 0.05 mV.\n",
    " \n",
    "The calibration curve is not a straight line but needs a quadratic term added to adequately describe it. In this exercise both linear and quadratic functions will be fit and the goodness of fit for each compared."
   ]
  },
  {
   "cell_type": "markdown",
   "metadata": {},
   "source": [
    "## Background "
   ]
  },
  {
   "cell_type": "markdown",
   "metadata": {},
   "source": [
    "<a id='nlfit_cell'></a>\n",
    "\n",
    "### Non-linear curve fitting\n",
    "\n",
    "The scipy function <samp>curve_fit()</samp> is used to perform the non-linear curve fitting.\n",
    "\n",
    "Non-linear fitting generally using an algorithm such as the [Levenberg–Marquardt algorithm](https://en.wikipedia.org/wiki/Levenberg–Marquardt_algorithm) to find the parameters which minimise the differences between a fitted curve and the data. However, such algorithms typically only find local minima. Hence, **it is vital to give the algorithm starting values for the best-fit parameter which are close to the optimum values** (option <samp>\"p0= \"</samp> in <samp>curve_fit()</samp>).\n",
    "\n",
    "Thus the procedure for performing a non-linear fit should be: \n",
    " * plot data points\n",
    " * plot curve to be fit with initial guesses for parameters and adjust if needed until they are in right region\n",
    " * perform fit and then plot the data again with the best-fit curve overlaid"
   ]
  },
  {
   "cell_type": "markdown",
   "metadata": {},
   "source": [
    "<a id='csq_cell'></a>\n",
    "\n",
    "### $\\chi^2$ and goodness of fit\n",
    "\n",
    "$\\chi^2$ is a statistic that characterises the dispersion of the observed values from the \n",
    "expected ones and is defined as: \n",
    "$$\\chi^2 = \\sum_{i=1}^{N}{\\left(\\frac{measured_i - expected_i}{error_i}\\right)^2}$$\n",
    "\n",
    "Therefore we might expect for good agreement that the measured spread would be approximately equal to the expected spread and that we should get a contribution of approximately 1 from each point. A good fit would then have $\\chi^2$ approximately equal to the number of data points ($N$). In actual fact  \n",
    "\n",
    "$$\\chi^2 \\approx \\nu = N -n_c$$  \n",
    "where $n_c$ is the number of constraints derived from the data (free parameters in the fit). $\\nu$ and is known as the __number of degrees of freedom (d.o.f.)__. So we would expect the reduced $\\chi^2$ ($\\frac{\\chi^2}{\\nu}$) to be approximately 1. \n",
    "\n",
    "It is rare to get a value for the reduced $\\chi^2$ is of exactly 1. If the value is <<1 then it means that the error bars have probably been overestimated. If it is >1 then the data and fitted curve do not agree perfectly, which can happen due to statistical fluctuations. The question: *how much > 1 can the reduced $\\chi^2$ value be and still be acceptable?* depends strongly on the number of d.o.f. In general, the probability (P-value) for obtaining the observed $\\chi^2$ for $\\nu$ degrees of freedom within statistical flutuations can be calculated by (note: there is a different $\\chi^2$ probability curve for each d.o.f.):\n",
    "\n",
    "$$P = \\int_{\\chi^2_{observed}}^\\infty \\chi^2(x,\\nu)\\,dx$$\n",
    "\n",
    "The above  $\\chi^2$ P-value can be calculated in Python using the [scipy.stats.chi2.sf()](https://docs.scipy.org/doc/scipy/reference/generated/scipy.stats.chi2.html) which is the *survival function*.\n",
    "Use by:\n",
    "```python\n",
    "from scipy.stats import chi2\n",
    "P=chi2.sf(χ2_value, ν)\n",
    "```"
   ]
  },
  {
   "cell_type": "markdown",
   "metadata": {},
   "source": [
    "## 1) Prepare data\n",
    "<font color=\"blue\"> Load in the data and extract the columns into appropriate variable names and make a matching numpy array for the errors on the voltages.</font>"
   ]
  },
  {
   "cell_type": "code",
   "execution_count": 5,
   "metadata": {},
   "outputs": [
    {
     "name": "stdout",
     "output_type": "stream",
     "text": [
      "[[ 0.000e+00 -8.490e-01]\n",
      " [ 5.000e+00 -7.380e-01]\n",
      " [ 1.000e+01 -5.370e-01]\n",
      " [ 1.500e+01 -3.540e-01]\n",
      " [ 2.000e+01 -1.960e-01]\n",
      " [ 2.500e+01 -1.900e-02]\n",
      " [ 3.000e+01  2.620e-01]\n",
      " [ 3.500e+01  4.130e-01]\n",
      " [ 4.000e+01  7.340e-01]\n",
      " [ 4.500e+01  8.820e-01]\n",
      " [ 5.000e+01  1.258e+00]\n",
      " [ 5.500e+01  1.305e+00]\n",
      " [ 6.000e+01  1.541e+00]\n",
      " [ 6.500e+01  1.768e+00]\n",
      " [ 7.000e+01  1.935e+00]\n",
      " [ 7.500e+01  2.147e+00]\n",
      " [ 8.000e+01  2.456e+00]\n",
      " [ 8.500e+01  2.676e+00]\n",
      " [ 9.000e+01  2.994e+00]\n",
      " [ 9.500e+01  3.200e+00]\n",
      " [ 1.000e+02  3.318e+00]]\n",
      "[  0.   5.  10.  15.  20.  25.  30.  35.  40.  45.  50.  55.  60.  65.\n",
      "  70.  75.  80.  85.  90.  95. 100.]\n",
      "[-0.849 -0.738 -0.537 -0.354 -0.196 -0.019  0.262  0.413  0.734  0.882\n",
      "  1.258  1.305  1.541  1.768  1.935  2.147  2.456  2.676  2.994  3.2\n",
      "  3.318]\n"
     ]
    }
   ],
   "source": [
    "# Solution for preparing the data \n",
    "\n",
    "import numpy as np\n",
    "\n",
    "#load data\n",
    "thermocouple = np.loadtxt(\"thermocouple.dat\")\n",
    "\n",
    "print(thermocouple)\n",
    "\n",
    "temp = thermocouple[:,0]\n",
    "volt = thermocouple[:,1]\n",
    "\n",
    "#checking it all works as intended\n",
    "print(temp)\n",
    "print(volt)"
   ]
  },
  {
   "cell_type": "markdown",
   "metadata": {},
   "source": [
    "## 2) Linear fit\n",
    "\n",
    "<font color=\"blue\">Plot the data points with errorbars and the linear fit function (which you will have to create) with the initial guess values for the parameters</font>"
   ]
  },
  {
   "cell_type": "code",
   "execution_count": 77,
   "metadata": {},
   "outputs": [
    {
     "data": {
      "image/png": "[encoded data removed]",
      "text/plain": [
       "<Figure size 432x288 with 1 Axes>"
      ]
     },
     "metadata": {
      "needs_background": "light"
     },
     "output_type": "display_data"
    }
   ],
   "source": [
    "# Solution for plotting data and initial guess\n",
    "\n",
    "import matplotlib.pyplot as plt\n",
    "%matplotlib inline\n",
    "\n",
    "\n",
    "def func(x,m,c):\n",
    "    return m*x+c\n",
    "\n",
    "\n",
    "\n",
    "\n",
    "slope = 0.045\n",
    "intercept = -1\n",
    "y = func(temp, slope, intercept)\n",
    "volt_err= (volt*0+0.05)\n",
    "plt.errorbar(temp, volt, yerr = volt_err, fmt = 'o', color = 'red', ecolor='black' , label = 'Voltage versus Temperature') \n",
    "\n",
    "plt.plot(temp, y, c='blue')\n",
    "plt.grid()\n",
    "plt.xlabel('Temperature (C)')\n",
    "plt.ylabel('Voltage (mV)')\n",
    "plt.legend();"
   ]
  },
  {
   "cell_type": "markdown",
   "metadata": {},
   "source": [
    "<font color=\"blue\">Use <samp>**scipy.optimize.curvefit()**</samp> to fit a straight line to the data. Give the fitting function an initial guess at the parameters (see [non-linear-fitting cell above](#nlfit_cell)). Be sure to include the y-errors in the call of the fitting function so that the fit is weighted. Plot the data with error bars, the line using the intial guess parameters (this is good practice to see that the guess is reasonable) and the line of best fit through the data. Recall,  command is **<samp>popt, pcov=curve_fit(func, x, y, p0=guess, sigma=yerror, absolute_sigma=True)</samp>** </font>"
   ]
  },
  {
   "cell_type": "code",
   "execution_count": 80,
   "metadata": {},
   "outputs": [
    {
     "data": {
      "image/png": "[encoded data removed]",
      "text/plain": [
       "<Figure size 432x288 with 1 Axes>"
      ]
     },
     "metadata": {
      "needs_background": "light"
     },
     "output_type": "display_data"
    }
   ],
   "source": [
    "# Solution for plotting data and best-fit curve\n",
    "\n",
    "from scipy.optimize import curve_fit   \n",
    "popt, pcov=curve_fit(func, temp, volt, p0=[slope, intercept], sigma=volt_err, absolute_sigma=True)\n",
    "\n",
    "slope_new = popt[0]\n",
    "intercept_new = popt[1]\n",
    "\n",
    "y_new = func(temp, slope_new, intercept_new)\n",
    "plt.errorbar(temp, volt, yerr = volt_err, fmt = 'o', color = 'red', ecolor='black' , label = 'Voltage versus Temperature')\n",
    "plt.plot(temp, y_new, label = 'Line of best fit')\n",
    "plt.grid()\n",
    "plt.legend()\n",
    "plt.xlabel('Temperature (C)')\n",
    "plt.ylabel('Voltage (mV)');"
   ]
  },
  {
   "cell_type": "markdown",
   "metadata": {},
   "source": [
    "## 3) Goodness of fit: linear fit\n",
    "\n",
    "Make sure you have read and understand the [χ2 cell above](#csq_cell)"
   ]
  },
  {
   "cell_type": "markdown",
   "metadata": {},
   "source": [
    "<font color=\"blue\"> Calculate the $\\chi^2$ value, reduced $\\chi^2$ and $\\chi^2$ P-value for the linear fit to the data. It might be useful to make your own function for calculating the $\\chi^2$ sum. Do the resulting values indicate the fit is good?</font>"
   ]
  },
  {
   "cell_type": "code",
   "execution_count": 185,
   "metadata": {},
   "outputs": [
    {
     "name": "stdout",
     "output_type": "stream",
     "text": [
      "The 𝜒2 value is 43.46711\n",
      "Reduced 𝜒2 is 2.28774\n",
      "The P-value is 0.001119\n"
     ]
    }
   ],
   "source": [
    "# Solution for calculating χ2 sum, reduced χ2 and χ2 P-value for linear function\n",
    "\n",
    "from scipy.stats import chi2  \n",
    "\n",
    "\n",
    "\n",
    "def chi_squared(data):\n",
    "    \n",
    "    total = 0\n",
    "    for i in range(len(data[:,1])):\n",
    "        expected = func(data[i,0], slope_new, intercept_new)\n",
    "        add = ((data[i,1] - expected)/0.05)**2\n",
    "        total += add\n",
    "    return total\n",
    "    \n",
    "chi_sq = chi_squared(thermocouple)\n",
    "dof = 21 - 2 \n",
    "ch_sq_red = chi_sq / dof\n",
    "print(f\"The 𝜒2 value is {chi_sq:.5f}\")\n",
    "print(f\"Reduced 𝜒2 is {ch_sq_red:.5f}\")\n",
    "\n",
    "from scipy.stats import chi2\n",
    "P=chi2.sf(chi_sq, 19)\n",
    "print(f\"The P-value is {P:.6f}\")\n"
   ]
  },
  {
   "cell_type": "markdown",
   "metadata": {},
   "source": [
    "## 4) Try fit as quadratic polynomial"
   ]
  },
  {
   "cell_type": "markdown",
   "metadata": {},
   "source": [
    "A different model for the thermocouple data might be a quadratic of the form: \n",
    "\n",
    "$$V = a_0 +a_1T + a_2T^2$$\n",
    "\n",
    "<font color='blue'>Use curve_fit to fit a quadratic function to the data. Plot the data, your initial guess and the quadratic fit. </font>"
   ]
  },
  {
   "cell_type": "code",
   "execution_count": 173,
   "metadata": {},
   "outputs": [
    {
     "name": "stdout",
     "output_type": "stream",
     "text": [
      "Quadratic formula used is V = -0.771 + 0.03656 T+ 0.0000214 T^2\n"
     ]
    },
    {
     "data": {
      "image/png": "[encoded data removed]",
      "text/plain": [
       "<Figure size 432x288 with 1 Axes>"
      ]
     },
     "metadata": {
      "needs_background": "light"
     },
     "output_type": "display_data"
    }
   ],
   "source": [
    "# Solution for quadratic - inital guess\n",
    "def quad_funct(x,a0,a1,a2):\n",
    "    return a0+a1*x+a2*x**2\n",
    "\n",
    "a0=-0.771 \n",
    "a1=0.03656\n",
    "a2=0.0000214\n",
    "V = quad_funct(temp,-0.771,0.03656,0.0000214)\n",
    "plt.scatter(temp, volt, c='r')\n",
    "plt.plot(temp, V, label = 'Quadratic fit guess')\n",
    "plt.grid()\n",
    "plt.legend()\n",
    "plt.xlabel('Temperature (C)')\n",
    "plt.ylabel('Voltage (mV)')\n",
    "print(f\"Quadratic formula used is V = -0.771 + 0.03656 T+ 0.0000214 T^2\");"
   ]
  },
  {
   "cell_type": "code",
   "execution_count": 174,
   "metadata": {},
   "outputs": [
    {
     "data": {
      "image/png": "[encoded data removed]",
      "text/plain": [
       "<Figure size 432x288 with 1 Axes>"
      ]
     },
     "metadata": {
      "needs_background": "light"
     },
     "output_type": "display_data"
    }
   ],
   "source": [
    "# Solution for quadratic - best fit\n",
    "popt, pcov=curve_fit(quad_funct, temp, volt, p0=[a0,a1,a2], sigma=volt_err, absolute_sigma=True)\n",
    "a0_new = popt[0]\n",
    "a1_new = popt[1]\n",
    "a2_new = popt[2]\n",
    "V_new = quad_funct(temp, a0_new, a1_new, a2_new)\n",
    "plt.plot(temp, V_new, label='Quadratic best fit', c='black')\n",
    "plt.scatter(temp, volt, c='red')\n",
    "plt.grid()\n",
    "plt.legend()\n",
    "plt.xlabel('Temperature (C)')\n",
    "plt.ylabel('Voltage (mV)');"
   ]
  },
  {
   "cell_type": "markdown",
   "metadata": {},
   "source": [
    "<font color =\"blue\">Calculate a value for the reduced $\\chi^2$ for this second fit and compare it with that for the first part. Which is the better fit?</font>"
   ]
  },
  {
   "cell_type": "code",
   "execution_count": 191,
   "metadata": {},
   "outputs": [
    {
     "name": "stdout",
     "output_type": "stream",
     "text": [
      "The value of 𝜒2 for quadratic fit is 26.56349\n",
      "This is a much better than the linear fit as it is closer to N = 21\n",
      "The reduced 𝜒2 is 1.39808 , which is closer to 1 compared to the linear fit 𝜒2 reduced\n",
      "The P-value is then 0.11524\n"
     ]
    }
   ],
   "source": [
    "# Solution for calculating χ2 sum, reduced χ2 and χ2 P-value for quadratic function\n",
    "def chi_squared_quad(data):\n",
    "    \n",
    "    total = 0\n",
    "    for i in range(len(data[:,1])):\n",
    "        expected = quad_funct(data[i,0], a0_new, a1_new, a2_new)\n",
    "        add = ((data[i,1] - expected)/0.05)**2\n",
    "        total += add\n",
    "    return total\n",
    "\n",
    "chi_sq_quad = chi_squared_quad(thermocouple)\n",
    "print(f\"The value of 𝜒2 for quadratic fit is {chi_sq_quad:.5f}\")\n",
    "print(\"This is a much better than the linear fit as it is closer to N = 21\")\n",
    "chi_sq_red_quad = chi_sq_quad/19\n",
    "print(f\"The reduced 𝜒2 is {chi_sq_red_quad:.5f} , which is closer to 1 compared to the linear fit 𝜒2 reduced\")\n",
    "P_quad=chi2.sf(chi_sq_quad, 19)\n",
    "print(f\"The P-value is then {P_quad:.5f}\")"
   ]
  },
  {
   "cell_type": "markdown",
   "metadata": {},
   "source": [
    "The quadratic fit works a lot better. The 𝜒2 value is closer to N in the quadratic fit. \n",
    "Reduced 𝜒2 is clser to 1 than the linear fit and the P-value is also larger, by a factor of 100 which means greater likelihood of getting the value.  "
   ]
  },
  {
   "cell_type": "markdown",
   "metadata": {},
   "source": [
    "## 3) Radioactive Decay Reprise"
   ]
  },
  {
   "cell_type": "markdown",
   "metadata": {},
   "source": [
    "<font color=\"blue\">Refit the \"counts.dat\" data from last week, using an exponential function. You will need to be careful about the initial parameters so again plot the data, the function evaluated using the initial guess parameters and the fit. Please plot the fitted curve with 100 data points over the range so that it looks smooth. Calculate the reduced $\\chi^2$ and P-value and comment on their values.</font>"
   ]
  },
  {
   "cell_type": "code",
   "execution_count": 256,
   "metadata": {
    "scrolled": true
   },
   "outputs": [
    {
     "name": "stdout",
     "output_type": "stream",
     "text": [
      "𝜒2 is 6.274395\n",
      "Reduced 𝜒2 is then 1.254879\n",
      "The P-value is then 0.28043\n"
     ]
    },
    {
     "data": {
      "image/png": "[encoded data removed]",
      "text/plain": [
       "<Figure size 432x288 with 1 Axes>"
      ]
     },
     "metadata": {
      "needs_background": "light"
     },
     "output_type": "display_data"
    }
   ],
   "source": [
    "# this is the solution for radioactive decay\n",
    "count = np.loadtxt(\"counts.dat\")\n",
    "\n",
    "t = count[:,0]\n",
    "cts = count[:,1]\n",
    "def exp(x, a , b):\n",
    "    return a*np.e**(b*x)\n",
    "a=400\n",
    "b=-0.0004357\n",
    "x = np.linspace(0,10000,100)\n",
    "\n",
    "plt.plot(x, exp(x,a,b), label = 'Guess exponential fit')\n",
    "plt.grid()\n",
    "\n",
    "plt.title('Counts vs Time')\n",
    "plt.xlabel('Time')\n",
    "plt.ylabel('Count')\n",
    "counterror = np.sqrt(cts)\n",
    "popt, pcov=curve_fit(exp, t, cts, p0=[a,b],sigma=counterror, absolute_sigma=True) \n",
    "a_new = popt[0]\n",
    "b_new = popt[1]\n",
    "exp_new = exp(x, a_new, b_new)\n",
    "plt.plot(x, exp_new, c='black', label = 'Actual exponential fit')\n",
    "plt.scatter(t,cts, c='r')\n",
    "plt.legend()\n",
    "\n",
    "def chi_squared_exp(data):\n",
    "    \n",
    "    total = 0\n",
    "    for i in range(len(data[:,1])):\n",
    "        expected = exp(data[i,0], a, b)\n",
    "        add = ((data[i,1] - expected)/np.sqrt(data[i,1]))**2\n",
    "        total += add\n",
    "    return total\n",
    "\n",
    "chi_sq_exp = chi_squared_exp(count)\n",
    "\n",
    "#I have taken the error on the count to be the square root of each point\n",
    "print(f\"𝜒2 is {chi_sq_exp:.6f}\")\n",
    "print(f\"Reduced 𝜒2 is then {chi_sq_exp / 5 :.6f}\")\n",
    "print(f\"The P-value is then {chi2.sf(chi_sq_exp, 5):.5f}\")\n",
    "\n"
   ]
  },
  {
   "cell_type": "markdown",
   "metadata": {},
   "source": [
    "The guess fit isn't perfect but according to the reduced 𝜒2 and P-value it is acceptably close to the actual fit"
   ]
  },
  {
   "cell_type": "markdown",
   "metadata": {},
   "source": [
    "## 4) Concluding Remarks:"
   ]
  },
  {
   "cell_type": "markdown",
   "metadata": {},
   "source": [
    "Now you should be able to:\n",
    "1. Use _scipy optimize.curvefit_ to do least squares fitting to arbitrary functions. \n",
    "2. Appreciate the importance of weighted a fit to experimental data buy the uncertainty in the points & be able to use\n",
    "_scipy optimize.curvefit_ to carry out such a fit.\n",
    "3. Understand the significance of $\\chi^2$, the reduced $\\chi^2$, and the $\\chi^2$ P-value."
   ]
  },
  {
   "cell_type": "code",
   "execution_count": null,
   "metadata": {},
   "outputs": [],
   "source": []
  },
  {
   "cell_type": "code",
   "execution_count": null,
   "metadata": {},
   "outputs": [],
   "source": []
  }
 ],
 "metadata": {
  "kernelspec": {
   "display_name": "Python 3",
   "language": "python",
   "name": "python3"
  },
  "language_info": {
   "codemirror_mode": {
    "name": "ipython",
    "version": 3
   },
   "file_extension": ".py",
   "mimetype": "text/x-python",
   "name": "python",
   "nbconvert_exporter": "python",
   "pygments_lexer": "ipython3",
   "version": "3.7.6"
  }
 },
 "nbformat": 4,
 "nbformat_minor": 1
}
