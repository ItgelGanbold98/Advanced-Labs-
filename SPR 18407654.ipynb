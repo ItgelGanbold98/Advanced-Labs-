{
 "cells": [
  {
   "cell_type": "markdown",
   "metadata": {},
   "source": [
    "## Programming the ADC"
   ]
  },
  {
   "cell_type": "code",
   "execution_count": 85,
   "metadata": {},
   "outputs": [
    {
     "name": "stdout",
     "output_type": "stream",
     "text": [
      "Activated Channel 0\n"
     ]
    }
   ],
   "source": [
    "from pydaqmx_helper.adc import ADC\n",
    "from time import sleep\n",
    "myADC = ADC()\n",
    "myADC.addChannels([0], \"DAQmx_Val_Diff\", minRange =-1.0 , maxRange = 1.0)\n",
    " "
   ]
  },
  {
   "cell_type": "markdown",
   "metadata": {},
   "source": [
    "## Programming the Digital IO"
   ]
  },
  {
   "cell_type": "code",
   "execution_count": 18,
   "metadata": {},
   "outputs": [],
   "source": [
    "from pydaqmx_helper.digital_io import Digital_IO\n",
    "from pydaqmx_helper.counter import Counter "
   ]
  },
  {
   "cell_type": "code",
   "execution_count": 30,
   "metadata": {},
   "outputs": [
    {
     "name": "stdout",
     "output_type": "stream",
     "text": [
      "Created digital output port: Dev6/port0\n"
     ]
    }
   ],
   "source": [
    "myDigital_IO_0 = Digital_IO('0','output')  #Instance of the digital io\n",
    "\n",
    "#val = myDigital_IO.read() #read if the io is input\n"
   ]
  },
  {
   "cell_type": "code",
   "execution_count": 38,
   "metadata": {},
   "outputs": [],
   "source": [
    "ans = myDigital_IO.write(9)\n",
    "myCounter = Counter() #instance of the counter class\n",
    "myCounter.start() #to start counting\n",
    "val = myCounter.getCount() #read out number of count"
   ]
  },
  {
   "cell_type": "code",
   "execution_count": 79,
   "metadata": {},
   "outputs": [],
   "source": [
    "def motor_controller(x):\n",
    "    m = '000'\n",
    "    n = (str(x))\n",
    "    in_put = m + n\n",
    "    return myDigital_IO.write(int(in_put,2))\n",
    "    \n",
    "# the motor controller has 5 ports, from left to right it's motor 1, motor 2, turn 1/2, CW, On/Off \n"
   ]
  },
  {
   "cell_type": "markdown",
   "metadata": {},
   "source": [
    "#### After testing, it is found that motor 1 corresponds to the rotation of the diode\n",
    "#### Motor 2 then corresponds to the rotation of the prism\n",
    "#### Each pulse rotates the prism and the diode by 0.04 degrees on full mode and by 0.02 when 1/2 mode is selected. "
   ]
  },
  {
   "cell_type": "code",
   "execution_count": 124,
   "metadata": {},
   "outputs": [],
   "source": [
    "def prism_controller_ccw(deg):\n",
    "    N = int(round(deg/0.047,0))\n",
    "    for k in range(N):\n",
    "        motor_controller('10001')\n",
    "        sleep(0.1)\n",
    "        motor_controller('00001')\n",
    "\n",
    "    \n",
    "    \n",
    "prism_controller_ccw(20)"
   ]
  },
  {
   "cell_type": "code",
   "execution_count": 122,
   "metadata": {},
   "outputs": [],
   "source": [
    "def diode_controller_ccw(deg):\n",
    "    N = int(round(deg/0.044,0))\n",
    "    for k in range(N):\n",
    "        motor_controller('01001')\n",
    "        sleep(0.1)\n",
    "        motor_controller('00001')\n",
    "\n",
    "        \n",
    "diode_controller_ccw(20)"
   ]
  },
  {
   "cell_type": "code",
   "execution_count": null,
   "metadata": {},
   "outputs": [],
   "source": []
  }
 ],
 "metadata": {
  "kernelspec": {
   "display_name": "Python 3",
   "language": "python",
   "name": "python3"
  },
  "language_info": {
   "codemirror_mode": {
    "name": "ipython",
    "version": 3
   },
   "file_extension": ".py",
   "mimetype": "text/x-python",
   "name": "python",
   "nbconvert_exporter": "python",
   "pygments_lexer": "ipython3",
   "version": "3.7.3"
  }
 },
 "nbformat": 4,
 "nbformat_minor": 2
}
