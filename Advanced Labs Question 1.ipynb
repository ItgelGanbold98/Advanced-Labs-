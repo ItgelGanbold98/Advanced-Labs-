{
 "cells": [
  {
   "cell_type": "markdown",
   "metadata": {},
   "source": [
    "## Q1  \n",
    "## The equation to convert a temperature from Celsius to Fahrenheit is \n",
    "## $T_{F} = \\frac{9}{5} \\times T_{C}+32$\n",
    "a) Write a program which asks the user to enter a temperature in Celsius and prints\n",
    " to the screen the corresponding temperature in Fahrenheit, with two decimal\n",
    " places. (you are strongly encourages to use Python f-strings for formatting)\n",
    "\n"
   ]
  },
  {
   "cell_type": "code",
   "execution_count": 1,
   "metadata": {},
   "outputs": [
    {
     "name": "stdout",
     "output_type": "stream",
     "text": [
      "Enter temperature in Celcius: 50\n",
      "In Fahrenheit it is: 122.0 °\n"
     ]
    }
   ],
   "source": [
    "#b)\n",
    "def temp_converter_C_to_F(C):                                          #define a function that converts Celsius to Fahrenheit \n",
    "    return (9/5)*C+32\n",
    "\n",
    "temp = input(\"Enter temperature in Celcius: \")                                             #ask for input\n",
    "print(f\"In Fahrenheit it is: {round(temp_converter_C_to_F(float(str(temp))),2)}\",chr(176)) #print out the result using f string \n",
    "                                                                                           #and degree symbol"
   ]
  },
  {
   "cell_type": "markdown",
   "metadata": {},
   "source": [
    "\n",
    "b) Write a function to do the Celsius to Fahrenheit conversion and repeat the previous exercise using this function.\n"
   ]
  },
  {
   "cell_type": "code",
   "execution_count": 4,
   "metadata": {},
   "outputs": [
    {
     "name": "stdout",
     "output_type": "stream",
     "text": [
      "Enter temperature in celsius: 68\n",
      "In Fahrenheit it is 154.4 °\n"
     ]
    }
   ],
   "source": [
    "#a) \n",
    "temperature = input(\"Enter temperature in celsius: \")\n",
    "print(f\"In Fahrenheit it is {float(temperature)*1.8+32}\",chr(176))"
   ]
  },
  {
   "cell_type": "markdown",
   "metadata": {},
   "source": [
    "c) Write a function which takes a string containing the temperature and its scale\n",
    "(as a single character, which may be any of ”F” or ”f” for Fahrenheit, ”C” or ”c”\n",
    "for Celsius, ”K” or ”k” for Kelvin), e.g. \"24 C\", and returns a dictionary with\n",
    "the temperature in each of the three scales, with the keys being \"C\", \"F\", \"K\".\n",
    "If an invalid character is entered then the function should return None instead of\n",
    "a dictionary (note: ideally we would use an exception here but that is a more\n",
    "advanced Python topic!).\n"
   ]
  },
  {
   "cell_type": "code",
   "execution_count": 6,
   "metadata": {},
   "outputs": [
    {
     "name": "stdout",
     "output_type": "stream",
     "text": [
      "Enter temperature, take space between scale and unit: 180 K\n"
     ]
    },
    {
     "data": {
      "text/plain": [
       "{'C': -93.15, 'F': -135.67, 'K': 180.0}"
      ]
     },
     "execution_count": 6,
     "metadata": {},
     "output_type": "execute_result"
    }
   ],
   "source": [
    "#c) \n",
    "def temp_dict(scale):  #def a function that converts between different units\n",
    "    \n",
    "    string_split = scale.split()  #split the input string\n",
    "\n",
    "    amount = float(string_split[0])\n",
    "    unit = string_split[1]\n",
    "    unit_low = unit.lower()\n",
    "    \n",
    "    if unit_low == \"c\":\n",
    "        TC = round(amount,2)\n",
    "        TF = round(amount*1.8+32,2)\n",
    "        TK = round(amount+273.15,2)\n",
    "        \n",
    "    elif unit_low == \"f\":\n",
    "        TC = round((amount - 32)/1.8, 2)\n",
    "        TF = round(amount,2)\n",
    "        TK = round(((amount - 32)/1.8 + 273.15),2)\n",
    "        \n",
    "    elif unit_low == \"k\":\n",
    "        TC = round((amount - 273.15),2)\n",
    "        TF = round(((amount - 273.15)*1.8 + 32),2)\n",
    "        TK = round(amount,2)\n",
    "    else:\n",
    "        return \"None\"\n",
    "    \n",
    "        \n",
    "    return {\"C\":TC,\"F\": TF,\"K\": TK}\n",
    "    \n",
    "    \n",
    "#d)\n",
    "    \n",
    "temp = input(\"Enter temperature, take space between scale and unit: \")\n",
    "\n",
    "temp_dict(temp)\n",
    "\n",
    "\n"
   ]
  },
  {
   "cell_type": "markdown",
   "metadata": {},
   "source": [
    "(e) Write a program which asks the user to enter an initial value, final value, and\n",
    "step size, in degrees Celcius and which loops over the desired range and prints the\n",
    "numbers and their corresponding values in Fahrenheit to the screen in a nicely\n",
    "formatted and aligned (to the decimal point) table (i.e. in columns), with one\n",
    "decimal place (use the function you developed earlier to do the conversion). Test\n",
    "with range -20 C to 50 C in steps of 5 C. (Note: this is not looking for anything\n",
    "fancy like a Pandas table - just plain formatted text as illustrated at the end of\n",
    "this question!)"
   ]
  },
  {
   "cell_type": "code",
   "execution_count": 133,
   "metadata": {},
   "outputs": [
    {
     "name": "stdout",
     "output_type": "stream",
     "text": [
      "Initial, Final, Step = -20 50 5\n",
      "     -20.0       -4.0\n",
      "     -15.0        5.0\n",
      "     -10.0       14.0\n",
      "      -5.0       23.0\n",
      "       0.0       32.0\n",
      "       5.0       41.0\n",
      "      10.0       50.0\n",
      "      15.0       59.0\n",
      "      20.0       68.0\n",
      "      25.0       77.0\n",
      "      30.0       86.0\n",
      "      35.0       95.0\n",
      "      40.0      104.0\n",
      "      45.0      113.0\n",
      "      50.0      122.0\n"
     ]
    }
   ],
   "source": [
    "#e) \n",
    "def increments(in_steps):\n",
    "    step_split = in_steps.split()\n",
    "    start = float(step_split[0])\n",
    "    final = float(step_split[1])\n",
    "    step = float(step_split[2])\n",
    "    with open(\"result.txt\", 'w') as f:\n",
    "    \n",
    "    \n",
    "      while start < final+step:\n",
    "            faren = start*1.8+32\n",
    "        \n",
    "            print(f\"{start:10.1f} {faren:10.1f}\")\n",
    "            f.write(f\"{start:10.1f} {faren:10.1f} \\n\")\n",
    "        \n",
    "        \n",
    "        \n",
    "            start += step\n",
    "        \n",
    "        \n",
    "    \n",
    "    \n",
    "    \n",
    "\n",
    "in_steps = input(\"Initial, Final, Step = \")\n",
    "increments(in_steps)\n"
   ]
  },
  {
   "cell_type": "code",
   "execution_count": null,
   "metadata": {},
   "outputs": [],
   "source": []
  },
  {
   "cell_type": "code",
   "execution_count": null,
   "metadata": {},
   "outputs": [],
   "source": []
  }
 ],
 "metadata": {
  "kernelspec": {
   "display_name": "Python 3",
   "language": "python",
   "name": "python3"
  },
  "language_info": {
   "codemirror_mode": {
    "name": "ipython",
    "version": 3
   },
   "file_extension": ".py",
   "mimetype": "text/x-python",
   "name": "python",
   "nbconvert_exporter": "python",
   "pygments_lexer": "ipython3",
   "version": "3.7.6"
  }
 },
 "nbformat": 4,
 "nbformat_minor": 4
}
